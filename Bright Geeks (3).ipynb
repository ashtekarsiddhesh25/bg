{
 "cells": [
  {
   "cell_type": "code",
   "execution_count": 1,
   "id": "c6b93fce",
   "metadata": {},
   "outputs": [],
   "source": [
    "# Day 1\n",
    "#task1------a=\"1234\" -----what is this type\n",
    "#task2-----a=100.00----\n",
    "#task3----a=i------what is type\n",
    "#task4---you have to check for int and complex----convert it into int and complex\n",
    "#task5-----you can take str=\"grapes\" , you have to perform slicing using postive and negative index\n",
    "#task6-----arthimetic,logical relational,identity(is,not is)"
   ]
  },
  {
   "cell_type": "code",
   "execution_count": 2,
   "id": "f90ed095",
   "metadata": {},
   "outputs": [
    {
     "name": "stdout",
     "output_type": "stream",
     "text": [
      "<class 'str'>\n",
      "<class 'int'>\n",
      "<class 'complex'>\n",
      "<class 'float'>\n"
     ]
    }
   ],
   "source": [
    "#task1------a=\"1234\" -----what is this type\n",
    "#type str\n",
    "a = \"1234\"\n",
    "print(type(a))\n",
    "#type Int\n",
    "b = 1234\n",
    "print(type(b))\n",
    "#type complex\n",
    "c = 1 + 2j\n",
    "print(type(c))\n",
    "#task2-----a=100.00----\n",
    "d = 100.00\n",
    "print(type(d))"
   ]
  },
  {
   "cell_type": "code",
   "execution_count": 3,
   "id": "117bec69",
   "metadata": {},
   "outputs": [
    {
     "name": "stdout",
     "output_type": "stream",
     "text": [
      "99\n",
      "(99.99+0j)\n"
     ]
    }
   ],
   "source": [
    "#task4---you have to check for int and complex----convert it into int and complex\n",
    "a = 99.99\n",
    "print(int(a))\n",
    "print(complex(a))"
   ]
  },
  {
   "cell_type": "code",
   "execution_count": 4,
   "id": "7f46f04e",
   "metadata": {
    "scrolled": true
   },
   "outputs": [
    {
     "name": "stdout",
     "output_type": "stream",
     "text": [
      "['Geo']\n",
      "['History', 'Geo', 'Maths']\n",
      "Science\n"
     ]
    }
   ],
   "source": [
    "#task5-----you can take str=\"grapes\" , you have to perform slicing using postive and negative index\n",
    "a = [\"History\" , \"Geo\" , \"Maths\" , \"Science\" , \"Bio\"]\n",
    "print(a[1:2])\n",
    "print(a[-5:-2])\n",
    "print(a[-2])"
   ]
  },
  {
   "cell_type": "markdown",
   "id": "3dddedca",
   "metadata": {},
   "source": [
    "# Day 2"
   ]
  },
  {
   "cell_type": "code",
   "execution_count": 5,
   "id": "8be09384",
   "metadata": {},
   "outputs": [
    {
     "name": "stdout",
     "output_type": "stream",
     "text": [
      "4\n"
     ]
    }
   ],
   "source": [
    "x = 2 # Global scope \n",
    "def fun ():\n",
    "        y = 4 # Local Scope\n",
    "        print(y)\n",
    "fun()\n"
   ]
  },
  {
   "cell_type": "markdown",
   "id": "1f722f94",
   "metadata": {},
   "source": [
    "# # if , else , if else "
   ]
  },
  {
   "cell_type": "code",
   "execution_count": 6,
   "id": "badab6be",
   "metadata": {},
   "outputs": [
    {
     "name": "stdout",
     "output_type": "stream",
     "text": [
      "True\n"
     ]
    }
   ],
   "source": [
    "x = 2\n",
    "if x < 3 :\n",
    "    print(\"True\")\n",
    "else:\n",
    "    print(\"false\")"
   ]
  },
  {
   "cell_type": "code",
   "execution_count": 7,
   "id": "64232c7b",
   "metadata": {},
   "outputs": [
    {
     "name": "stdout",
     "output_type": "stream",
     "text": [
      "false\n"
     ]
    }
   ],
   "source": [
    "x = 4\n",
    "if x < 3 :\n",
    "    print(\"True\")\n",
    "else:\n",
    "    print(\"false\")"
   ]
  },
  {
   "cell_type": "markdown",
   "id": "9f1ae981",
   "metadata": {},
   "source": [
    "# for , while"
   ]
  },
  {
   "cell_type": "code",
   "execution_count": 8,
   "id": "ddb29b42",
   "metadata": {},
   "outputs": [
    {
     "name": "stdout",
     "output_type": "stream",
     "text": [
      "1\n",
      "2\n",
      "3\n",
      "4\n",
      "5\n"
     ]
    }
   ],
   "source": [
    "i = 1\n",
    "while i < 6:\n",
    "    print(i)\n",
    "    i += 1"
   ]
  },
  {
   "cell_type": "code",
   "execution_count": 9,
   "id": "d3959ffd",
   "metadata": {
    "scrolled": true
   },
   "outputs": [
    {
     "name": "stdout",
     "output_type": "stream",
     "text": [
      "3\n"
     ]
    }
   ],
   "source": [
    "i = 3\n",
    "while i < 6:\n",
    "    print(i)\n",
    "    if i == 3:\n",
    "        break\n",
    "        i += 1\n"
   ]
  },
  {
   "cell_type": "markdown",
   "id": "677d885d",
   "metadata": {},
   "source": [
    "# Day 3"
   ]
  },
  {
   "cell_type": "code",
   "execution_count": 10,
   "id": "ac1f6bed",
   "metadata": {},
   "outputs": [],
   "source": [
    "# Task"
   ]
  },
  {
   "cell_type": "raw",
   "id": "d627b589",
   "metadata": {},
   "source": [
    "1.area of circle\n",
    "2.area of square\n",
    "3.area of rectangle\n",
    "4.table of a number\n",
    "\n",
    "5. prime or not\n",
    "7.odd or even number\n",
    "accepts a word from the user and reverse it\n",
    "\n",
    "9.to check if a triangle is quilateral,isosceles or scalene.\n",
    "10.remove duplicates in string : i/p: str=\"helloworld\"    o/p:helowrd"
   ]
  },
  {
   "cell_type": "code",
   "execution_count": 11,
   "id": "e5b9bec1",
   "metadata": {},
   "outputs": [
    {
     "name": "stdin",
     "output_type": "stream",
     "text": [
      "Please enter the radius of the given circle:  4\n"
     ]
    },
    {
     "name": "stdout",
     "output_type": "stream",
     "text": [
      " The area of the given circle is:  50.24\n"
     ]
    }
   ],
   "source": [
    "# area of circle\n",
    "pi = 3.14  \n",
    "Radius = float (input (\"Please enter the radius of the given circle: \"))  \n",
    "area_of_the_circle = pi * Radius * Radius  \n",
    "print (\" The area of the given circle is: \", area_of_the_circle)  "
   ]
  },
  {
   "cell_type": "code",
   "execution_count": 12,
   "id": "3e1d8655",
   "metadata": {},
   "outputs": [
    {
     "name": "stdin",
     "output_type": "stream",
     "text": [
      "Please enter side of square :  4\n"
     ]
    },
    {
     "name": "stdout",
     "output_type": "stream",
     "text": [
      "Area of the square = 16\n"
     ]
    }
   ],
   "source": [
    "# area of square\n",
    "side = int(input(\"Please enter side of square : \"))\n",
    "area = side*side\n",
    "print(\"Area of the square = \" + str(area))"
   ]
  },
  {
   "cell_type": "code",
   "execution_count": 13,
   "id": "255c8879",
   "metadata": {},
   "outputs": [
    {
     "name": "stdin",
     "output_type": "stream",
     "text": [
      "Please enter width :  5\n",
      "Please enter height :  4\n"
     ]
    },
    {
     "name": "stdout",
     "output_type": "stream",
     "text": [
      "Area of the square = 16\n"
     ]
    }
   ],
   "source": [
    "# area of rectangle\n",
    "width = int(input(\"Please enter width : \"))\n",
    "height = int(input(\"Please enter height : \"))\n",
    "Area = width * height\n",
    "print(\"Area of the square = \" + str(area))"
   ]
  },
  {
   "cell_type": "code",
   "execution_count": 14,
   "id": "bec67232",
   "metadata": {},
   "outputs": [
    {
     "name": "stdout",
     "output_type": "stream",
     "text": [
      "5 x 1 = 5\n",
      "5 x 2 = 10\n",
      "5 x 3 = 15\n",
      "5 x 4 = 20\n",
      "5 x 5 = 25\n",
      "5 x 6 = 30\n",
      "5 x 7 = 35\n",
      "5 x 8 = 40\n",
      "5 x 9 = 45\n",
      "5 x 10 = 50\n"
     ]
    }
   ],
   "source": [
    "n = 5\n",
    "for i in range(1, 11):\n",
    "    print(n, 'x', i, '=', n*i)"
   ]
  },
  {
   "cell_type": "markdown",
   "id": "0f23d9f0-470b-417a-9402-bf7cd12237c9",
   "metadata": {},
   "source": [
    "18/01/2024"
   ]
  },
  {
   "cell_type": "code",
   "execution_count": 15,
   "id": "be69aa6a-e14a-4f2a-9f84-be216b434fa1",
   "metadata": {},
   "outputs": [
    {
     "name": "stdin",
     "output_type": "stream",
     "text": [
      "Enter a number:  4\n"
     ]
    },
    {
     "name": "stdout",
     "output_type": "stream",
     "text": [
      "Result: 2.5\n",
      "This code will run.\n"
     ]
    }
   ],
   "source": [
    "# try except finally\n",
    "try:\n",
    "    x = int(input(\"Enter a number: \"))\n",
    "    result = 10 / x\n",
    "    print(\"Result:\", result)\n",
    "except ValueError:\n",
    "    print(\"Invalid input.\")\n",
    "except ZeroDivisionError:\n",
    "    print(\"Cannot divide by zero.\")\n",
    "finally:\n",
    "    print(\"This code will run.\")\n"
   ]
  },
  {
   "cell_type": "code",
   "execution_count": 16,
   "id": "79151448-0445-4282-8298-4929fe4422fd",
   "metadata": {},
   "outputs": [
    {
     "name": "stdout",
     "output_type": "stream",
     "text": [
      "No Error\n"
     ]
    },
    {
     "ename": "ZeroDivisionError",
     "evalue": "division by zero",
     "output_type": "error",
     "traceback": [
      "\u001b[1;31m---------------------------------------------------------------------------\u001b[0m",
      "\u001b[1;31mZeroDivisionError\u001b[0m                         Traceback (most recent call last)",
      "Cell \u001b[1;32mIn[16], line 5\u001b[0m\n\u001b[0;32m      3\u001b[0m b \u001b[38;5;241m=\u001b[39m \u001b[38;5;241m0\u001b[39m\n\u001b[0;32m      4\u001b[0m \u001b[38;5;28;01mtry\u001b[39;00m:\n\u001b[1;32m----> 5\u001b[0m     \u001b[38;5;28mprint\u001b[39m(\u001b[43ma\u001b[49m\u001b[38;5;241;43m/\u001b[39;49m\u001b[43mb\u001b[49m)\n\u001b[0;32m      6\u001b[0m \u001b[38;5;28;01mfinally\u001b[39;00m:\n\u001b[0;32m      7\u001b[0m     \u001b[38;5;28mprint\u001b[39m(\u001b[38;5;124m\"\u001b[39m\u001b[38;5;124mNo Error\u001b[39m\u001b[38;5;124m\"\u001b[39m)\n",
      "\u001b[1;31mZeroDivisionError\u001b[0m: division by zero"
     ]
    }
   ],
   "source": [
    "# remove except and execute\n",
    "a = 8\n",
    "b = 0\n",
    "try:\n",
    "    print(a/b)\n",
    "finally:\n",
    "    print(\"No Error\")"
   ]
  },
  {
   "cell_type": "code",
   "execution_count": 17,
   "id": "78b56921-456b-47ac-871d-53c27491b21e",
   "metadata": {
    "scrolled": true
   },
   "outputs": [
    {
     "ename": "SyntaxError",
     "evalue": "invalid syntax (3782672704.py, line 4)",
     "output_type": "error",
     "traceback": [
      "\u001b[1;36m  Cell \u001b[1;32mIn[17], line 4\u001b[1;36m\u001b[0m\n\u001b[1;33m    except ValueError:\u001b[0m\n\u001b[1;37m    ^\u001b[0m\n\u001b[1;31mSyntaxError\u001b[0m\u001b[1;31m:\u001b[0m invalid syntax\n"
     ]
    }
   ],
   "source": [
    "# Remove try and use except finally\n",
    "a = 8\n",
    "b = 0\n",
    "except ValueError:\n",
    "    print(\"Invalid input. Please enter a valid number.\")\n",
    "finally:\n",
    "    print(\"No Error\")"
   ]
  },
  {
   "cell_type": "code",
   "execution_count": 18,
   "id": "b706f4c8-69a4-4dc1-ac46-0b5f9ca5f973",
   "metadata": {},
   "outputs": [
    {
     "name": "stdout",
     "output_type": "stream",
     "text": [
      "SID\n",
      "22\n"
     ]
    }
   ],
   "source": [
    "def func1(name, age):\n",
    "    print(name)\n",
    "    print(age)\n",
    "\n",
    "func1(name='SID', age=22)"
   ]
  },
  {
   "cell_type": "code",
   "execution_count": 19,
   "id": "f8fa6458-3963-4c2d-99a8-c16a97c6c7c7",
   "metadata": {},
   "outputs": [
    {
     "ename": "NameError",
     "evalue": "name 'SID' is not defined",
     "output_type": "error",
     "traceback": [
      "\u001b[1;31m---------------------------------------------------------------------------\u001b[0m",
      "\u001b[1;31mNameError\u001b[0m                                 Traceback (most recent call last)",
      "Cell \u001b[1;32mIn[19], line 5\u001b[0m\n\u001b[0;32m      3\u001b[0m     \u001b[38;5;28mprint\u001b[39m(name)\n\u001b[0;32m      4\u001b[0m     \u001b[38;5;28mprint\u001b[39m(age)\n\u001b[1;32m----> 5\u001b[0m func2(\u001b[38;5;241m22\u001b[39m,\u001b[43mSID\u001b[49m)\n",
      "\u001b[1;31mNameError\u001b[0m: name 'SID' is not defined"
     ]
    }
   ],
   "source": [
    "# Positinal argument\n",
    "def func2 (name , age):\n",
    "    print(name)\n",
    "    print(age)\n",
    "func2(22,SID)"
   ]
  },
  {
   "cell_type": "code",
   "execution_count": 20,
   "id": "0f9e030f-acf9-4635-a647-e5600bab68b3",
   "metadata": {},
   "outputs": [
    {
     "name": "stdin",
     "output_type": "stream",
     "text": [
      "Enter the name:  \n",
      "Enter the age:  sid\n"
     ]
    },
    {
     "ename": "ValueError",
     "evalue": "invalid literal for int() with base 10: 'sid'",
     "output_type": "error",
     "traceback": [
      "\u001b[1;31m---------------------------------------------------------------------------\u001b[0m",
      "\u001b[1;31mValueError\u001b[0m                                Traceback (most recent call last)",
      "Cell \u001b[1;32mIn[20], line 6\u001b[0m\n\u001b[0;32m      4\u001b[0m     \u001b[38;5;28mprint\u001b[39m(name, x)\n\u001b[0;32m      5\u001b[0m     \u001b[38;5;28mprint\u001b[39m(age, y)\n\u001b[1;32m----> 6\u001b[0m \u001b[43mfunc1\u001b[49m\u001b[43m(\u001b[49m\u001b[38;5;124;43m\"\u001b[39;49m\u001b[38;5;124;43mMY Name is :\u001b[39;49m\u001b[38;5;124;43m\"\u001b[39;49m\u001b[43m,\u001b[49m\u001b[43m \u001b[49m\u001b[38;5;124;43m\"\u001b[39;49m\u001b[38;5;124;43mMY Age is :\u001b[39;49m\u001b[38;5;124;43m\"\u001b[39;49m\u001b[43m)\u001b[49m\n",
      "Cell \u001b[1;32mIn[20], line 3\u001b[0m, in \u001b[0;36mfunc1\u001b[1;34m(name, age)\u001b[0m\n\u001b[0;32m      1\u001b[0m \u001b[38;5;28;01mdef\u001b[39;00m \u001b[38;5;21mfunc1\u001b[39m(name, age):\n\u001b[0;32m      2\u001b[0m     x \u001b[38;5;241m=\u001b[39m \u001b[38;5;28minput\u001b[39m(\u001b[38;5;124m\"\u001b[39m\u001b[38;5;124mEnter the name: \u001b[39m\u001b[38;5;124m\"\u001b[39m)\n\u001b[1;32m----> 3\u001b[0m     y \u001b[38;5;241m=\u001b[39m \u001b[38;5;28;43mint\u001b[39;49m\u001b[43m(\u001b[49m\u001b[38;5;28;43minput\u001b[39;49m\u001b[43m(\u001b[49m\u001b[38;5;124;43m\"\u001b[39;49m\u001b[38;5;124;43mEnter the age: \u001b[39;49m\u001b[38;5;124;43m\"\u001b[39;49m\u001b[43m)\u001b[49m\u001b[43m)\u001b[49m\n\u001b[0;32m      4\u001b[0m     \u001b[38;5;28mprint\u001b[39m(name, x)\n\u001b[0;32m      5\u001b[0m     \u001b[38;5;28mprint\u001b[39m(age, y)\n",
      "\u001b[1;31mValueError\u001b[0m: invalid literal for int() with base 10: 'sid'"
     ]
    }
   ],
   "source": [
    "def func1(name, age):\n",
    "    x = input(\"Enter the name: \")\n",
    "    y = int(input(\"Enter the age: \"))\n",
    "    print(name, x)\n",
    "    print(age, y)\n",
    "func1(\"MY Name is :\", \"MY Age is :\")"
   ]
  },
  {
   "cell_type": "code",
   "execution_count": 21,
   "id": "1402a312-4b81-428e-8790-1879e1b3ae7e",
   "metadata": {},
   "outputs": [
    {
     "name": "stdout",
     "output_type": "stream",
     "text": [
      "SID\n",
      "22\n"
     ]
    }
   ],
   "source": [
    "def func2 (name , age):\n",
    "    print(name)\n",
    "    print(age)\n",
    "func2(\"SID\",22)"
   ]
  },
  {
   "cell_type": "code",
   "execution_count": 22,
   "id": "ee809e48-4bed-4695-a08d-ae29ce7d99f3",
   "metadata": {},
   "outputs": [
    {
     "name": "stdout",
     "output_type": "stream",
     "text": [
      "10\n"
     ]
    }
   ],
   "source": [
    "class Encap:\n",
    "    def __init__(self, a):\n",
    "        self._a = a\n",
    "\n",
    "    def display(self):\n",
    "        print(self._a)\n",
    "\n",
    "e = Encap(a=10)\n",
    "e.a=100\n",
    "e.display()\n"
   ]
  },
  {
   "cell_type": "code",
   "execution_count": 23,
   "id": "1888dc0b-b4ab-424a-ab43-d39faff30384",
   "metadata": {},
   "outputs": [],
   "source": [
    "# 24/01/2024"
   ]
  },
  {
   "cell_type": "code",
   "execution_count": 24,
   "id": "49cfbd82-e039-4828-a1d2-ffd3a0a4bb11",
   "metadata": {},
   "outputs": [
    {
     "name": "stdout",
     "output_type": "stream",
     "text": [
      "2024-01-29 19:25:54.934222\n"
     ]
    }
   ],
   "source": [
    "import datetime\n",
    "\n",
    "print(datetime.datetime.now())\n"
   ]
  },
  {
   "cell_type": "code",
   "execution_count": 25,
   "id": "9adc1f7c-ce6b-434d-8c31-69a5a8d3d574",
   "metadata": {},
   "outputs": [
    {
     "name": "stdout",
     "output_type": "stream",
     "text": [
      "2024-01-29 19:25:55.609474\n"
     ]
    }
   ],
   "source": [
    "import datetime\n",
    "\n",
    "print(datetime.datetime.today())"
   ]
  },
  {
   "cell_type": "code",
   "execution_count": 26,
   "id": "633e6568-dd1f-4c76-9a8e-2896b1dd8337",
   "metadata": {},
   "outputs": [
    {
     "name": "stdout",
     "output_type": "stream",
     "text": [
      "Monday\n"
     ]
    }
   ],
   "source": [
    "##TASK2---strftime(\"%A\"), %a, %w, %b, %B\n",
    "from datetime import datetime\n",
    "x = datetime.now()\n",
    "y = x.strftime(\"%A\")\n",
    "print(y)"
   ]
  },
  {
   "cell_type": "code",
   "execution_count": 27,
   "id": "d8771c09-f461-4bed-8fd1-c4b43bad6614",
   "metadata": {},
   "outputs": [
    {
     "name": "stdout",
     "output_type": "stream",
     "text": [
      "Mon\n"
     ]
    }
   ],
   "source": [
    "from datetime import datetime\n",
    "x = datetime.now()\n",
    "y = x.strftime(\"%a\")\n",
    "print(y)"
   ]
  },
  {
   "cell_type": "code",
   "execution_count": 28,
   "id": "9815b153-93b1-4dab-ba59-d6a438a49be6",
   "metadata": {},
   "outputs": [
    {
     "name": "stdout",
     "output_type": "stream",
     "text": [
      "1\n"
     ]
    }
   ],
   "source": [
    "from datetime import datetime\n",
    "x = datetime.now()\n",
    "y = x.strftime(\"%w\")\n",
    "print(y)"
   ]
  },
  {
   "cell_type": "code",
   "execution_count": 29,
   "id": "99eea1c7-1024-4c35-9bfd-53c761da3bf3",
   "metadata": {},
   "outputs": [
    {
     "name": "stdout",
     "output_type": "stream",
     "text": [
      "Jan\n"
     ]
    }
   ],
   "source": [
    "x = datetime.now()\n",
    "y = x.strftime(\"%b\")\n",
    "print(y)"
   ]
  },
  {
   "cell_type": "code",
   "execution_count": 30,
   "id": "a1f40966-cb6b-490d-b92d-791b06eda3ba",
   "metadata": {},
   "outputs": [
    {
     "name": "stdout",
     "output_type": "stream",
     "text": [
      "January\n"
     ]
    }
   ],
   "source": [
    "x = datetime.now()\n",
    "y = x.strftime(\"%B\")\n",
    "print(y)"
   ]
  },
  {
   "cell_type": "code",
   "execution_count": 31,
   "id": "620cc911-607f-44b6-8735-10dbcf758569",
   "metadata": {},
   "outputs": [
    {
     "name": "stdout",
     "output_type": "stream",
     "text": [
      "2024-01-24 00:00:00\n"
     ]
    }
   ],
   "source": [
    "from datetime import datetime\n",
    "\n",
    "x = \"2024-jan-24\"\n",
    "pdt = datetime.strptime(x, \"%Y-%b-%d\")\n",
    "print(pdt)"
   ]
  },
  {
   "cell_type": "code",
   "execution_count": 32,
   "id": "6656ddfa-c21b-4f9b-8d2b-36632a567daf",
   "metadata": {},
   "outputs": [
    {
     "ename": "NameError",
     "evalue": "name 'timedelta' is not defined",
     "output_type": "error",
     "traceback": [
      "\u001b[1;31m---------------------------------------------------------------------------\u001b[0m",
      "\u001b[1;31mNameError\u001b[0m                                 Traceback (most recent call last)",
      "Cell \u001b[1;32mIn[32], line 4\u001b[0m\n\u001b[0;32m      2\u001b[0m \u001b[38;5;28;01mfrom\u001b[39;00m \u001b[38;5;21;01mdatetime\u001b[39;00m \u001b[38;5;28;01mimport\u001b[39;00m datetime\n\u001b[0;32m      3\u001b[0m cd \u001b[38;5;241m=\u001b[39m datetime\u001b[38;5;241m.\u001b[39mnow()\n\u001b[1;32m----> 4\u001b[0m td \u001b[38;5;241m=\u001b[39m cd \u001b[38;5;241m+\u001b[39m \u001b[43mtimedelta\u001b[49m(days\u001b[38;5;241m=\u001b[39m\u001b[38;5;241m1\u001b[39m)\n\u001b[0;32m      5\u001b[0m \u001b[38;5;28mprint\u001b[39m(\u001b[38;5;124m\"\u001b[39m\u001b[38;5;124mCurrent Date and Time:\u001b[39m\u001b[38;5;124m\"\u001b[39m, cd)\n\u001b[0;32m      6\u001b[0m \u001b[38;5;28mprint\u001b[39m(\u001b[38;5;124m\"\u001b[39m\u001b[38;5;124mDate for Tomorrow:\u001b[39m\u001b[38;5;124m\"\u001b[39m, td\u001b[38;5;241m.\u001b[39mdate())\n",
      "\u001b[1;31mNameError\u001b[0m: name 'timedelta' is not defined"
     ]
    }
   ],
   "source": [
    "# task3-----you check for tomorrow date.\n",
    "from datetime import datetime\n",
    "cd = datetime.now()\n",
    "td = cd + timedelta(days=1)\n",
    "print(\"Current Date and Time:\", cd)\n",
    "print(\"Date for Tomorrow:\", td.date())"
   ]
  },
  {
   "cell_type": "code",
   "execution_count": 33,
   "id": "c0969faf-a7af-4e8f-97a0-c4b0490416e4",
   "metadata": {},
   "outputs": [
    {
     "ename": "NameError",
     "evalue": "name 'timedelta' is not defined",
     "output_type": "error",
     "traceback": [
      "\u001b[1;31m---------------------------------------------------------------------------\u001b[0m",
      "\u001b[1;31mNameError\u001b[0m                                 Traceback (most recent call last)",
      "Cell \u001b[1;32mIn[33], line 4\u001b[0m\n\u001b[0;32m      2\u001b[0m \u001b[38;5;28;01mfrom\u001b[39;00m \u001b[38;5;21;01mdatetime\u001b[39;00m \u001b[38;5;28;01mimport\u001b[39;00m datetime\n\u001b[0;32m      3\u001b[0m td\u001b[38;5;241m=\u001b[39m datetime\u001b[38;5;241m.\u001b[39mnow()\n\u001b[1;32m----> 4\u001b[0m ag\u001b[38;5;241m=\u001b[39m td \u001b[38;5;241m-\u001b[39m \u001b[43mtimedelta\u001b[49m(days\u001b[38;5;241m=\u001b[39m\u001b[38;5;241m7\u001b[39m)\n\u001b[0;32m      5\u001b[0m \u001b[38;5;28mprint\u001b[39m(\u001b[38;5;124m\"\u001b[39m\u001b[38;5;124mCurrent Date and Time:\u001b[39m\u001b[38;5;124m\"\u001b[39m, td)\n\u001b[0;32m      6\u001b[0m \u001b[38;5;28mprint\u001b[39m(\u001b[38;5;124m\"\u001b[39m\u001b[38;5;124mSeven Days Ago:\u001b[39m\u001b[38;5;124m\"\u001b[39m, ag\u001b[38;5;241m.\u001b[39mdate())\n",
      "\u001b[1;31mNameError\u001b[0m: name 'timedelta' is not defined"
     ]
    }
   ],
   "source": [
    "#task4---subtract 7days from the current date\n",
    "from datetime import datetime\n",
    "td= datetime.now()\n",
    "ag= td - timedelta(days=7)\n",
    "print(\"Current Date and Time:\", td)\n",
    "print(\"Seven Days Ago:\", ag.date())"
   ]
  },
  {
   "cell_type": "code",
   "execution_count": 34,
   "id": "a7b8555a-7ce9-482b-b4c1-60da7854593b",
   "metadata": {},
   "outputs": [
    {
     "ename": "NameError",
     "evalue": "name 'timedelta' is not defined",
     "output_type": "error",
     "traceback": [
      "\u001b[1;31m---------------------------------------------------------------------------\u001b[0m",
      "\u001b[1;31mNameError\u001b[0m                                 Traceback (most recent call last)",
      "Cell \u001b[1;32mIn[34], line 5\u001b[0m\n\u001b[0;32m      3\u001b[0m cd \u001b[38;5;241m=\u001b[39m datetime\u001b[38;5;241m.\u001b[39mnow()\n\u001b[0;32m      4\u001b[0m \u001b[38;5;28;01mfor\u001b[39;00m i \u001b[38;5;129;01min\u001b[39;00m \u001b[38;5;28mrange\u001b[39m(\u001b[38;5;241m5\u001b[39m):\n\u001b[1;32m----> 5\u001b[0m     nd \u001b[38;5;241m=\u001b[39m cd \u001b[38;5;241m+\u001b[39m \u001b[43mtimedelta\u001b[49m(days\u001b[38;5;241m=\u001b[39mi)\n\u001b[0;32m      6\u001b[0m     \u001b[38;5;28mprint\u001b[39m(\u001b[38;5;124mf\u001b[39m\u001b[38;5;124m\"\u001b[39m\u001b[38;5;124mDay \u001b[39m\u001b[38;5;132;01m{\u001b[39;00mi\u001b[38;5;250m \u001b[39m\u001b[38;5;241m+\u001b[39m\u001b[38;5;250m \u001b[39m\u001b[38;5;241m1\u001b[39m\u001b[38;5;132;01m}\u001b[39;00m\u001b[38;5;124m: \u001b[39m\u001b[38;5;132;01m{\u001b[39;00mnd\u001b[38;5;241m.\u001b[39mdate()\u001b[38;5;132;01m}\u001b[39;00m\u001b[38;5;124m\"\u001b[39m)\n",
      "\u001b[1;31mNameError\u001b[0m: name 'timedelta' is not defined"
     ]
    }
   ],
   "source": [
    "#task5---print next 5days starting today\n",
    "from datetime import datetime\n",
    "cd = datetime.now()\n",
    "for i in range(5):\n",
    "    nd = cd + timedelta(days=i)\n",
    "    print(f\"Day {i + 1}: {nd.date()}\")\n"
   ]
  },
  {
   "cell_type": "code",
   "execution_count": 46,
   "id": "5d1697fb-2864-4029-b819-963430e4f4ba",
   "metadata": {},
   "outputs": [],
   "source": [
    "#29/01/24"
   ]
  },
  {
   "cell_type": "code",
   "execution_count": 47,
   "id": "a79d7df3-9cf3-4a65-ba9e-12c140f6c535",
   "metadata": {},
   "outputs": [
    {
     "name": "stdout",
     "output_type": "stream",
     "text": [
      "[1, 4, 9, 16]\n"
     ]
    }
   ],
   "source": [
    "l = [1,2,3,4]\n",
    "s = list(map(lambda x:x**2,l))\n",
    "print(s)"
   ]
  },
  {
   "cell_type": "code",
   "execution_count": 48,
   "id": "fff11645-3f10-4f0d-bf01-71ee673175a1",
   "metadata": {},
   "outputs": [
    {
     "name": "stdout",
     "output_type": "stream",
     "text": [
      "Even numbers: [2, 4, 6, 8, 10]\n"
     ]
    }
   ],
   "source": [
    "l = [1, 2, 3, 4, 5, 6, 7, 8, 9, 10]\n",
    "en = list(filter(lambda x: x % 2 == 0, numbers))\n",
    "print(\"Even numbers:\", en)"
   ]
  },
  {
   "cell_type": "code",
   "execution_count": 51,
   "id": "3cdfad20-45bf-4e4b-9602-58df0b422d71",
   "metadata": {},
   "outputs": [
    {
     "name": "stdout",
     "output_type": "stream",
     "text": [
      "2.5\n"
     ]
    }
   ],
   "source": [
    "l = [1, 2, 3, 4]\n",
    "avg = lambda x: sum(x) / 4\n",
    "result = average(l)\n",
    "print(result)"
   ]
  },
  {
   "cell_type": "code",
   "execution_count": 25,
   "id": "fe2d2808-dd3d-42c4-8513-65485a9cb8ec",
   "metadata": {},
   "outputs": [
    {
     "name": "stdout",
     "output_type": "stream",
     "text": [
      "0\n"
     ]
    }
   ],
   "source": [
    "print(2//3)"
   ]
  },
  {
   "cell_type": "code",
   "execution_count": 27,
   "id": "e01874b9-246f-48f1-8b76-81029c71b664",
   "metadata": {},
   "outputs": [
    {
     "ename": "SyntaxError",
     "evalue": "invalid syntax. Perhaps you forgot a comma? (2281582731.py, line 1)",
     "output_type": "error",
     "traceback": [
      "\u001b[1;36m  Cell \u001b[1;32mIn[27], line 1\u001b[1;36m\u001b[0m\n\u001b[1;33m    for i in range(1 to 10)\u001b[0m\n\u001b[1;37m                   ^\u001b[0m\n\u001b[1;31mSyntaxError\u001b[0m\u001b[1;31m:\u001b[0m invalid syntax. Perhaps you forgot a comma?\n"
     ]
    }
   ],
   "source": []
  },
  {
   "cell_type": "code",
   "execution_count": 4,
   "id": "23581d89-60ab-4229-b2e0-03be6bf81469",
   "metadata": {},
   "outputs": [
    {
     "name": "stdin",
     "output_type": "stream",
     "text": [
      "Enter the word:     hello world\n"
     ]
    },
    {
     "name": "stdout",
     "output_type": "stream",
     "text": [
      "Duplicate letters in the word  hello world\n"
     ]
    }
   ],
   "source": [
    "a = input(\"Enter the word:    \")\n",
    "duplicates = ''.join([char for char in set(a) if a.count(char) > 1])\n",
    "print(\"Duplicate letters in the word \" , a)"
   ]
  },
  {
   "cell_type": "code",
   "execution_count": null,
   "id": "993d7895-d08c-4d46-850b-a2fba7154b9e",
   "metadata": {},
   "outputs": [],
   "source": []
  }
 ],
 "metadata": {
  "kernelspec": {
   "display_name": "Python 3 (ipykernel)",
   "language": "python",
   "name": "python3"
  },
  "language_info": {
   "codemirror_mode": {
    "name": "ipython",
    "version": 3
   },
   "file_extension": ".py",
   "mimetype": "text/x-python",
   "name": "python",
   "nbconvert_exporter": "python",
   "pygments_lexer": "ipython3",
   "version": "3.10.13"
  }
 },
 "nbformat": 4,
 "nbformat_minor": 5
}
